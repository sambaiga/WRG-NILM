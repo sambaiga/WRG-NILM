{
 "cells": [
  {
   "cell_type": "code",
   "execution_count": 78,
   "metadata": {},
   "outputs": [],
   "source": [
    "import sys\n",
    "sys.path.append(\"../src\")\n",
    "import numpy as np\n",
    "import matplotlib.pyplot as plt\n",
    "import matplotlib.ticker as ticker\n",
    "from sklearn.metrics import confusion_matrix, f1_score, matthews_corrcoef, zero_one_loss\n",
    "import itertools\n",
    "import seaborn as sns\n",
    "sns.color_palette('husl', n_colors=20)\n",
    "from utils.visual_functions import *\n",
    "from utils.visual_functions import *\n",
    "import torch\n",
    "%matplotlib inline\n",
    "fig_path=\"../figure/paper/\"\n",
    "from matplotlib.ticker import (MultipleLocator, FormatStrFormatter,\n",
    "                               AutoMinorLocator, FuncFormatter)\n",
    "\n",
    "\n",
    "\n",
    "cooll_names = [\"Drill\", \"Fan\", \"Grinder\", \"Hair\", \"Hedge\", \"Lamp\", \"Sander\", \"Saw\", \"Vacuum\"]\n",
    "plaid_names= ['AC',\n",
    " 'CL',\n",
    " 'Fan',\n",
    " 'Fridge',\n",
    " 'Hairdryer',\n",
    " 'Heater',\n",
    " 'Bulb',\n",
    " 'Laptop',\n",
    " 'Microwave',\n",
    " 'Vacuum',\n",
    " 'Washer']\n",
    "\n",
    "\n",
    "def get_fscore(cm, names):\n",
    "    av = 0\n",
    "    p = []\n",
    "    for i in range(len(names)):\n",
    "        teller = 2 * cm[i,i]\n",
    "        noemer = sum(cm[:,i]) + sum(cm[i,:])\n",
    "        F = float(teller) / float(noemer)\n",
    "        av += F\n",
    "        #print('{0} {1:.2f}'.format(names[i],F*100))\n",
    "        p.append(F*100)\n",
    "\n",
    "    av = av/len(names)*100\n",
    "\n",
    "    p = np.array(p)\n",
    "    return p, av\n",
    "\n",
    "def plot_multiple_fscore(names, cm_vi,cm_rp, labels=[\"baseline\", \"adaptive RP\"]):\n",
    "    width = 0.4\n",
    "    #sns.set_color_codes(\"pastel\")\n",
    "    f1_vi,av_vi = get_fscore(cm_vi, names)\n",
    "    f1_rp,av_rp = get_fscore(cm_rp, names)\n",
    "    av = max(av_vi, av_rp)\n",
    "    width=0.4\n",
    "    plt.barh(np.arange(len(f1_vi)), f1_vi, width, align='center', alpha=0.8, label=labels[0])\n",
    "    plt.barh(np.arange(len(f1_rp))+ width, f1_rp, width, align='center', alpha=0.5, label=labels[1])\n",
    "    ax = plt.gca()\n",
    "    ax.set(yticks=np.arange(len(names)) + width, yticklabels=names)\n",
    "    ax.set_xlabel(\"$F_1$ macro (\\%)'\")\n",
    "\n",
    "    ax.axvline(x=av,color='orange', linewidth=1.0, linestyle=\"--\")\n",
    "    a = '{0:0.2f}'.format(av)\n",
    "    b = '$ $'+a\n",
    "    if av > 75:\n",
    "        OFFSET = -0.7\n",
    "        plt.text(av-5,OFFSET,b,color='darkorange', fontsize=18)\n",
    "    else:\n",
    "        OFFSET = 0\n",
    "        plt.text(av,OFFSET,b,color='darkorange')\n",
    "    ax.set_ylabel(\"\",fontsize=20)\n",
    "    ax.tick_params(axis='both', which='major', labelsize=20)\n",
    "    leg=legend(ax,ncol=2, pos=(0.5, -0.2))\n",
    "    return leg"
   ]
  },
  {
   "cell_type": "markdown",
   "metadata": {
    "heading_collapsed": true
   },
   "source": [
    "## Parameters experiments\n",
    "\n",
    "### Hyper-parameters"
   ]
  },
  {
   "cell_type": "code",
   "execution_count": 66,
   "metadata": {
    "hidden": true
   },
   "outputs": [],
   "source": [
    "def get_param_results(dataset=\"cooll\", mcc=True):\n",
    "    model_name='CNN'\n",
    "    width=50\n",
    "    \n",
    "   \n",
    "    if dataset==\"cooll\":\n",
    "        names = cooll_names \n",
    "    image_type= \"wrg\"\n",
    "    \n",
    "    results_f1={}\n",
    "    results_mcc={}\n",
    "    results_zl={}\n",
    "    preds = {}\n",
    "    trues = {}\n",
    "    currents = {}\n",
    "    f_max= 0\n",
    "    fig =figure(fig_width=6)\n",
    "\n",
    "  \n",
    "    eps_params = [5, 1e1, 1e2, 1e3, 1e4, 1e5]\n",
    "    deltas = [1, 5, 10, 20, 30, width]\n",
    "    for delta in deltas:\n",
    "        F1=[]\n",
    "        MCC=[]\n",
    "        ZL = []\n",
    "        for eps in eps_params:\n",
    "            file_name=f\"{dataset}_{image_type}_{model_name}_parameters_delta_{str(delta)}_eps_{str(eps)}\"\n",
    "            #print(f\" load data for {file_name}\")\n",
    "            f1  = np.load(\"../results/\"+file_name+\"_f1.npy\")\n",
    "            zl  = np.load(\"../results/\"+file_name+\"_z_one.npy\")\n",
    "            mcc  = np.load(\"../results/\"+file_name+\"_mcc.npy\")\n",
    "            if f1>f_max:\n",
    "                f_max=f1\n",
    "                ep = eps\n",
    "                step= delta\n",
    "            \n",
    "            F1.append(f1[0]*100)\n",
    "            MCC.append(mcc[0])\n",
    "            ZL.append(zl[0])\n",
    "            \n",
    "       \n",
    "\n",
    "        #if delta==10:#plt.plot([1, 10, 20, 30, 40, 50], np.array(MCC) , label = f'$\\delta=${delta}', marker='v',markersize=5)\n",
    "        plt.plot(eps_params, np.array(MCC) , label = f'$\\delta=${delta}', marker='v',markersize=5)\n",
    "        results_mcc[delta]=MCC\n",
    "        results_f1[delta]=F1\n",
    "        results_zl[delta]=ZL\n",
    "    #plt.ylim(60, 100)\n",
    "    plt.xlabel(' $\\log 1/ \\epsilon$')\n",
    "    \n",
    "    #plt.ylabel('Fmacro (\\%)')\n",
    "    \n",
    "    ax = plt.gca()\n",
    "    ax.set_xscale('log')\n",
    "    #plt.axhline(80, linestyle=\"--\",color=\"red\")\n",
    "    leg = ax.legend()  \n",
    "   \n",
    "    #plt.ylabel('No. of misclassfication')\n",
    "    #savefig(fig_path+f\"ZL_{dataset}\",format=\".pdf\")\n",
    "    \n",
    "    plt.ylabel('MCC')\n",
    "    savefig(fig_path+f\"MCC_{dataset}\",format=\".pdf\")\n",
    "    \n",
    "    print(f\"eps={ep}: steps={step}: score={f_max}\")\n",
    "    return results_mcc\n"
   ]
  },
  {
   "cell_type": "code",
   "execution_count": 67,
   "metadata": {
    "hidden": true
   },
   "outputs": [
    {
     "name": "stdout",
     "output_type": "stream",
     "text": [
      "eps=10.0: steps=20: score=[[0.98112746]]\n",
      "eps=1000.0: steps=50: score=[[1.]]\n"
     ]
    }
   ],
   "source": [
    "results_delta={}\n",
    "for dataset in [\"plaid\", \"cooll\"]:\n",
    "    results_mcc=get_param_results(dataset=dataset, mcc=False)\n",
    "    results_delta[dataset]=np.hstack(list(results_mcc.values()))\n"
   ]
  },
  {
   "cell_type": "code",
   "execution_count": 50,
   "metadata": {
    "hidden": true
   },
   "outputs": [],
   "source": [
    "for k, ep in enumerate([5, 1e1, 1e2, 1e3, 1e4]):\n",
    "    plt.plot([1, 5, 10, 20, 30, 50], results_delta[\"plaid\"][k], label=f'$\\epsilon=${1/ep}',  marker='v',markersize=5)\n",
    "ax = plt.gca()\n",
    "plt.ylabel('MCC') \n",
    "plt.xlabel(\"$\\delta$\")\n",
    "leg = ax.legend()  \n",
    "savefig(fig_path+f\"MCC_plaid_delta\",format=\".pdf\")"
   ]
  },
  {
   "cell_type": "code",
   "execution_count": 48,
   "metadata": {
    "hidden": true
   },
   "outputs": [],
   "source": [
    "for k, ep in enumerate([5, 1e1, 1e2, 1e3, 1e4]):\n",
    "    plt.plot([1, 5, 10, 20, 30, 50], results_delta[\"cooll\"][k], label=f'$\\epsilon=${1/ep}',  marker='v',markersize=5)\n",
    "ax = plt.gca()\n",
    "plt.ylabel('MCC') \n",
    "plt.xlabel(\"$\\delta$\")\n",
    "leg = ax.legend()  \n",
    "savefig(fig_path+f\"MCC_cooll_delta\",format=\".pdf\")"
   ]
  },
  {
   "cell_type": "code",
   "execution_count": 70,
   "metadata": {
    "hidden": true
   },
   "outputs": [
    {
     "data": {
      "text/plain": [
       "array([0.90864985, 0.89897961, 0.71117535, 0.44842408, 0.01879007,\n",
       "       0.02699116])"
      ]
     },
     "execution_count": 70,
     "metadata": {},
     "output_type": "execute_result"
    }
   ],
   "source": [
    "results_delta[\"plaid\"][:,0]"
   ]
  },
  {
   "cell_type": "code",
   "execution_count": 71,
   "metadata": {
    "hidden": true
   },
   "outputs": [
    {
     "data": {
      "image/png": "[encoded data removed]",
      "text/plain": [
       "<Figure size 432x266.991 with 1 Axes>"
      ]
     },
     "metadata": {
      "needs_background": "light"
     },
     "output_type": "display_data"
    }
   ],
   "source": [
    "fig=figure(fig_width=6)\n",
    "\n",
    "plt.plot([5, 1e1, 1e2, 1e3, 1e4, 1e5], results_delta[\"cooll\"][:,0], color='C0', label=\"COOLL-BRP\",  marker='v',markersize=5)\n",
    "plt.plot([5, 1e1, 1e2, 1e3, 1e4, 1e5], results_delta[\"cooll\"][:,-1], color='C1', label=\"COLL-WRG\",  marker='v',markersize=5)\n",
    "ax = plt.gca()\n",
    "ax.set_xscale('log')\n",
    "plt.ylabel('MCC')\n",
    "#plt.ylim(0.8, 1.001)\n",
    "#plt.axhline(80, linestyle=\"--\",color=\"red\")\n",
    "leg = ax.legend()  "
   ]
  },
  {
   "cell_type": "markdown",
   "metadata": {
    "hidden": true
   },
   "source": [
    "### Input embending \n"
   ]
  },
  {
   "cell_type": "code",
   "execution_count": 54,
   "metadata": {
    "hidden": true
   },
   "outputs": [],
   "source": [
    "def get_param_width_results(dataset=\"lilac\"):\n",
    "    model_name='CNN'\n",
    "    width=50\n",
    "    \n",
    "   \n",
    "    if dataset==\"cooll\":\n",
    "        names = cooll_names \n",
    "    image_type= \"wrg\"\n",
    "    \n",
    "    results_f1={}\n",
    "    results_mcc={}\n",
    "    results_zl={}\n",
    "    preds = {}\n",
    "    trues = {}\n",
    "    currents = {}\n",
    "    results_time = {}\n",
    "    f_max= 0\n",
    "    \n",
    "    widths = [20, 30, 40, 50, 60, 80, 100]\n",
    "    results = pd.DataFrame( index=widths, columns=[\"F1\", \"MCC\", \"ZL\", \"TIME\"])\n",
    "    for width in widths:\n",
    "        file_name=f\"{dataset}_{image_type}_{model_name}_parameters_width_{str(width)}\"\n",
    "        \n",
    "           \n",
    "        f1  = np.load(\"../results/\"+file_name+\"_f1.npy\").flatten()\n",
    "        zl  = np.load(\"../results/\"+file_name+\"_z_one.npy\").flatten()\n",
    "        mcc  = np.load(\"../results/\"+file_name+\"_mcc.npy\").flatten()\n",
    "        time = np.load(\"../results/\"+file_name+\"_time.npy\").flatten()\n",
    "        \n",
    "        results_f1[width]=list(f1)[0]\n",
    "        results_mcc[width]=list(mcc)[0]\n",
    "        results_zl[width]=list(zl)[0]\n",
    "        results_time[width]=list(time)[0]/60\n",
    "        \n",
    "    results[\"F1\"] = pd.Series(results_f1)\n",
    "    results[\"MCC\"] = pd.Series(results_mcc)\n",
    "    results[\"ZL\"] = pd.Series(results_zl)\n",
    "    results[\"TIME\"] = pd.Series(results_time)\n",
    "    results=results.round(4)\n",
    "    return results\n",
    "           \n",
    "results={}\n",
    "for dataset in [\"plaid\", \"cooll\"]:\n",
    "    results[dataset]=get_param_width_results(dataset=dataset)"
   ]
  },
  {
   "cell_type": "code",
   "execution_count": 61,
   "metadata": {
    "hidden": true
   },
   "outputs": [],
   "source": [
    "fig=figure(fig_width=6)\n",
    "plt.plot(np.array([20, 30, 40, 50, 60, 80, 100]), results['plaid']['MCC'].values, marker='v',markersize=5, label=\"PLAID \")\n",
    "plt.plot(np.array([20, 30, 40, 50, 60, 80, 100]), results['cooll']['MCC'].values, marker='v',markersize=5, label=\"COOLL \")\n",
    "plt.ylim(0.8, 1.05)\n",
    "plt.xlabel('$w$')\n",
    "plt.ylabel('$MCC$')\n",
    "ax = plt.gca()\n",
    "leg = ax.legend()\n",
    "ax.minorticks_on()\n",
    "ax.xaxis.set_major_locator(MultipleLocator(10))\n",
    "ax.xaxis.set_major_formatter(FormatStrFormatter('%d'))\n",
    "ax.xaxis.set_minor_locator(MultipleLocator(5))\n",
    "savefig(fig_path+f\"paramaeter_width_plaid_cool\", format=\".pdf\")"
   ]
  },
  {
   "cell_type": "code",
   "execution_count": 65,
   "metadata": {
    "hidden": true
   },
   "outputs": [],
   "source": [
    "fig=figure(fig_width=6)\n",
    "plt.plot(np.array([20, 30, 40, 50, 60, 80, 100]), results['plaid']['TIME'].values, marker='v',markersize=5, label=\"PLAID \")\n",
    "plt.plot(np.array([20, 30, 40, 50, 60, 80, 100]), results['cooll']['TIME'].values, marker='v',markersize=5, label=\"COOLL \")\n",
    "#plt.ylim(70, 100)\n",
    "plt.xlabel('$w$')\n",
    "plt.ylabel('Time ($m$)')\n",
    "ax = plt.gca()\n",
    "leg = ax.legend()\n",
    "ax.minorticks_on()\n",
    "ax.xaxis.set_major_locator(MultipleLocator(10))\n",
    "ax.xaxis.set_major_formatter(FormatStrFormatter('%d'))\n",
    "ax.xaxis.set_minor_locator(MultipleLocator(5))\n",
    "savefig(fig_path+f\"paramaeter_width_time\", format=\".pdf\")"
   ]
  },
  {
   "cell_type": "markdown",
   "metadata": {},
   "source": [
    "## General performance"
   ]
  },
  {
   "cell_type": "code",
   "execution_count": 94,
   "metadata": {},
   "outputs": [],
   "source": [
    "def get_model_results(dataset=\"plaid\"):\n",
    "    model_name='CNN'\n",
    "    width=50\n",
    "    cv=4\n",
    "    \n",
    "    if dataset ==\"plaid\":\n",
    "        names = plaid_names\n",
    "    elif dataset==\"cooll\":\n",
    "        names = cooll_names\n",
    "    \n",
    "    \n",
    "    \n",
    "    results_cm = {}\n",
    "    results_f1={}\n",
    "    results_mcc={}\n",
    "    results_zl={}\n",
    "    preds = {}\n",
    "    trues = {}\n",
    "    currents = {}\n",
    "    #image_types = [\"vi\",\"brgvi\", \"wrg\"]\n",
    "    image_types = [\"vi\", \"brgvi\", \"wrg\"]\n",
    "    results = pd.DataFrame( index=image_types, columns=[\"F1\", \"MCC\", \"ZL\"])\n",
    "    for image_type in image_types:\n",
    "        file_name=f\"{dataset}_{image_type}_{model_name}_general_perfomance\"\n",
    "        \n",
    "\n",
    "        pred = np.load(\"../results/\"+file_name+\"_pred.npy\")\n",
    "        true = np.load(\"../results/\"+file_name+\"_true.npy\")\n",
    "        #img = np.load(\"../results/\"+file_name+\"_images.npy\")\n",
    "        preds[image_type]=pred\n",
    "        trues[image_type]=true\n",
    "\n",
    "        mcc  = matthews_corrcoef(true, pred)\n",
    "        zl   = zero_one_loss(true, pred)*100\n",
    "        cm   = confusion_matrix(true, pred)\n",
    "        f1   = get_Fmeasure(cm, names)\n",
    "        results_cm[image_type]=cm\n",
    "        results_f1[image_type]=f1\n",
    "        results_mcc[image_type]=mcc\n",
    "        results_zl[image_type]=zl\n",
    "        f1  = np.load(\"../results/\"+file_name+\"_f1.npy\")\n",
    "        zl  = np.load(\"../results/\"+file_name+\"_z_one.npy\")\n",
    "        mcc  = np.load(\"../results/\"+file_name+\"_mcc.npy\")\n",
    "        print(f'results for {image_type} image type with {dataset} dataset')\n",
    "        print(f\"mcc:{round(mcc.mean(), 2)}:{round(mcc.std(), 2)}\")\n",
    "        print(f\"f1:{round(f1.mean()*100, 2)}:{round(f1.std()*100, 2)}\")\n",
    "        print(f\"zl:{round(zl.mean(), 2)}:{round(zl.std(), 2)}\")\n",
    "        print('')\n",
    "        plt.figure(figsize=(9,9))\n",
    "        plot_confusion_matrix(results_cm[image_type], names, title=None)\n",
    "        savefig(fig_path+f\"cm_{image_type}_{dataset}\", format=\".pdf\")\n",
    "\n",
    "    fig=figure(fig_width=7, fig_height=7)\n",
    "    plot_multiple_fscore(names, results_cm[\"brgvi\"],results_cm['wrg'], labels=[\"WRG\", \"RP\"])\n",
    "    savefig(fig_path+f\"fm_{dataset}\", format=\".pdf\")\n",
    "\n",
    "\n",
    "\n",
    "    \n",
    "    results[\"MCC\"] = pd.Series(results_mcc)\n",
    "    results[\"F1\"] = pd.Series(results_f1)\n",
    "    results[\"ZL\"] = pd.Series(results_zl)\n",
    "    results=results.round(2)\n",
    "    print(f\"results for {dataset}\")\n",
    "    print(results)\n",
    "    print(\"\")\n",
    "    \n",
    "    return results\n",
    "\n",
    "    "
   ]
  },
  {
   "cell_type": "code",
   "execution_count": 95,
   "metadata": {},
   "outputs": [
    {
     "name": "stdout",
     "output_type": "stream",
     "text": [
      "results for vi image type with cooll dataset\n",
      "mcc:0.98:0.01\n",
      "f1:98.58:1.02\n",
      "zl:1.43:1.01\n",
      "\n",
      "results for brgvi image type with cooll dataset\n",
      "mcc:0.9:0.04\n",
      "f1:90.65:3.38\n",
      "zl:9.18:3.24\n",
      "\n",
      "results for wrg image type with cooll dataset\n",
      "mcc:1.0:0.0\n",
      "f1:99.88:0.2\n",
      "zl:0.12:0.21\n",
      "\n",
      "results for cooll\n",
      "          F1   MCC    ZL\n",
      "vi     98.80  0.98  1.43\n",
      "brgvi  91.03  0.90  9.18\n",
      "wrg    99.86  1.00  0.12\n",
      "\n",
      "results for vi image type with plaid dataset\n",
      "mcc:0.95:0.02\n",
      "f1:95.08:1.76\n",
      "zl:4.75:1.68\n",
      "\n",
      "results for brgvi image type with plaid dataset\n",
      "mcc:0.91:0.01\n",
      "f1:91.5:1.0\n",
      "zl:8.01:0.87\n",
      "\n",
      "results for wrg image type with plaid dataset\n",
      "mcc:0.97:0.01\n",
      "f1:96.78:1.33\n",
      "zl:2.98:1.09\n",
      "\n",
      "results for plaid\n",
      "          F1   MCC    ZL\n",
      "vi     92.88  0.95  4.75\n",
      "brgvi  86.80  0.91  8.01\n",
      "wrg    94.35  0.97  2.98\n",
      "\n"
     ]
    }
   ],
   "source": [
    "results = {}\n",
    "for dataset in [\"cooll\", \"plaid\"]:\n",
    "    results[dataset]=get_model_results(dataset=dataset)"
   ]
  },
  {
   "cell_type": "code",
   "execution_count": null,
   "metadata": {},
   "outputs": [],
   "source": []
  }
 ],
 "metadata": {
  "kernelspec": {
   "display_name": "Python 3",
   "language": "python",
   "name": "python3"
  },
  "language_info": {
   "codemirror_mode": {
    "name": "ipython",
    "version": 3
   },
   "file_extension": ".py",
   "mimetype": "text/x-python",
   "name": "python",
   "nbconvert_exporter": "python",
   "pygments_lexer": "ipython3",
   "version": "3.7.4"
  },
  "latex_envs": {
   "LaTeX_envs_menu_present": true,
   "autoclose": false,
   "autocomplete": true,
   "bibliofile": "biblio.bib",
   "cite_by": "apalike",
   "current_citInitial": 1,
   "eqLabelWithNumbers": true,
   "eqNumInitial": 1,
   "hotkeys": {
    "equation": "Ctrl-E",
    "itemize": "Ctrl-I"
   },
   "labels_anchors": false,
   "latex_user_defs": false,
   "report_style_numbering": false,
   "user_envs_cfg": false
  }
 },
 "nbformat": 4,
 "nbformat_minor": 4
}
