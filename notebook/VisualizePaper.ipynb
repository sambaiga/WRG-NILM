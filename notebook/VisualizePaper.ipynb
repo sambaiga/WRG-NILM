{
 "cells": [
  {
   "cell_type": "code",
   "execution_count": 478,
   "metadata": {},
   "outputs": [
    {
     "name": "stdout",
     "output_type": "stream",
     "text": [
      "set seed\n"
     ]
    }
   ],
   "source": [
    "import sys\n",
    "sys.path.append('../src/')\n",
    "import matplotlib.pyplot as plt\n",
    "from utils.visual_functions import *\n",
    "from utils.utils import *\n",
    "import numpy as np\n",
    "from sklearn.manifold import TSNE\n",
    "import matplotlib\n",
    "import seaborn as sns\n",
    "sns.color_palette('husl', n_colors=20)\n",
    "%matplotlib inline\n",
    "fig_path=\"../figure/paper/\"\n",
    "seed = 4783957\n",
    "print(\"set seed\")\n",
    "np.random.seed(seed)\n",
    "import torch\n",
    "from utils.feature_representation import *"
   ]
  },
  {
   "cell_type": "markdown",
   "metadata": {},
   "source": [
    "## Functions"
   ]
  },
  {
   "cell_type": "code",
   "execution_count": 479,
   "metadata": {},
   "outputs": [],
   "source": [
    "def calculatePower(train_current, train_voltage, NN=500):\n",
    "  \n",
    "\n",
    "    n = len(current)\n",
    "    PQ = np.empty([n,2])\n",
    "    for i in range(n):\n",
    "        # extract current and voltage in two cycle\n",
    "        # extract current and voltage in two cycle\n",
    "        temp_I = current[i]\n",
    "        temp_V = voltage[i]\n",
    "        Irms = np.mean(temp_I**2)**0.5\n",
    "        Vrms = np.mean(temp_V**2)**0.5\n",
    "\n",
    "        # Instantaneous power: obtained by multiplying the instantaneous voltage and current values\n",
    "        Pinst = temp_I * temp_V\n",
    "        Pactive = np.mean(Pinst) \n",
    "\n",
    "        # Apparent power: obtained by multiplying the RMS values of voltage and current\n",
    "        Papparent = Vrms*Irms;\n",
    "\n",
    "        # Ractive power if power triangle holds:\n",
    "        Preactive = np.sqrt(Papparent**2 - Pactive**2);\n",
    "\n",
    "\n",
    "\n",
    "\n",
    "        PQ[i,0]=Pactive\n",
    "        PQ[i,1]=Preactive\n",
    "    return PQ\n",
    "\n",
    "def plot_PQPlane(labels, PQ, legends=None, sample=True):\n",
    "    \n",
    "    if legends:\n",
    "        Legends=legends\n",
    "    else:\n",
    "        Legends=np.unique(labels)\n",
    "        \n",
    "    clrs = sns.color_palette(\"Paired\", len(Legends))\n",
    "    markers='1v^<P4ph+DX*8os3<-'\n",
    "    \n",
    "    minx,maxx,miny,maxy = (0,0,0,0)\n",
    "    \n",
    "\n",
    "    for i, app in enumerate(Legends):\n",
    "        ix=np.where(labels==app)[0]\n",
    "        if sample:\n",
    "            ix1 = np.random.randint(PQ.shape[0],size=6)\n",
    "            tempx = PQ[ix1,0]\n",
    "            tempy = PQ[ix1,1]\n",
    "        else:\n",
    "            tempx = PQ[ix,0]\n",
    "            tempy = PQ[ix,1]\n",
    "        plt.scatter(tempx,tempy,marker=markers[i], s=30, label=Legends[i], color=clrs[i])\n",
    "        minx = min(minx,min(tempx))\n",
    "        maxx = max(maxx,max(tempx))\n",
    "        miny = min(miny,min(tempy))\n",
    "        maxy = max(maxy,max(tempy))    \n",
    "    plt.axis([minx*0.9,maxx*1.1,miny*0.9,maxy*1.1])\n",
    "    plt.xlabel('Real Power(W)')\n",
    "    plt.ylabel('Reactive Power (VAR)')\n",
    "    plt.legend(bbox_to_anchor=(1.01, 1), loc=2, borderaxespad=0.)\n",
    "    plt.tight_layout()\n",
    "\n",
    "    \n",
    "def tsne_visualizer(labels, feature, legends=None):\n",
    "    if legends:\n",
    "        Legends=legends\n",
    "    else:\n",
    "        Legends=np.unique(labels)\n",
    "    clrs = sns.color_palette(\"Paired\", len(Legends))\n",
    "    model  = TSNE(perplexity=20, min_grad_norm=1E-12, n_iter=10000, random_state=42)\n",
    "    #model = TSNE(n_components=2, random_state=0, perplexity=20, n_iter=1000)\n",
    "    TSNEF  = model.fit_transform(feature.reshape(len(feature), -1))\n",
    "    \n",
    "    for i, app in enumerate(Legends):\n",
    "        ix=np.where(labels==app)[0]\n",
    "        plt.scatter(TSNEF[ix,0], TSNEF[ix,1],label=app, color=clrs[i])\n",
    "    plt.legend(bbox_to_anchor=(1.01, 1), loc=2, borderaxespad=0.)\n",
    "    plt.xlabel(\"tsne-2d-one\")\n",
    "    plt.ylabel(\"tsne-2d-two\")\n",
    "    \n",
    "def select_zc(voltage, Ts=500):\n",
    "    zero_crossing = np.where(np.diff(np.sign(voltage)))[0]\n",
    "    \n",
    "    if voltage[zero_crossing[0]+1] > 0:\n",
    "        zero_crossing = zero_crossing[0:]\n",
    "    else:\n",
    "        zero_crossing = zero_crossing[1:]\n",
    "        \n",
    "    if len(zero_crossing) % 2 == 1:\n",
    "        zero_crossing = zero_crossing[:-1]\n",
    "        \n",
    "    if zero_crossing[-1] + Ts//2 >= len(voltage):\n",
    "        zero_crossing = zero_crossing[:-2]\n",
    "        \n",
    "    return zero_crossing\n",
    "    \n",
    "    \n",
    "def get_activations(c, v, Ts=500):\n",
    "    current, voltage = np.copy(c), np.copy(v)\n",
    "    zc=select_zc(voltage, Ts)\n",
    "    print(zc)\n",
    "    k = None\n",
    "    for j in range(2, len(zc)-2):\n",
    "        ts=zc[-j]-zc[-(j+2)]\n",
    "        I=c[zc[-(j+2)]:zc[-j]]\n",
    "        ic=zero_crossings(I)\n",
    "        if ts==Ts and len(ic)>1 and len(I)>=Ts:\n",
    "            k = j\n",
    "            break\n",
    "\n",
    "    if k is not None:\n",
    "        voltage = voltage[zc[-(k+2)]:zc[-k]]\n",
    "        current = current[zc[-(k+2)]:zc[-k]]\n",
    "        correct = [zc[-(k+2)], zc[-k]]\n",
    "    else:\n",
    "        voltage = voltage[:Ts]\n",
    "        current = np.zeros((Ts))\n",
    "        correct = []\n",
    "    return current, voltage, correct\n",
    "\n",
    "def zero_crossings(voltage): \n",
    "    return np.where(np.diff(np.sign(voltage)))[0]"
   ]
  },
  {
   "cell_type": "markdown",
   "metadata": {},
   "source": [
    "## Feature Extraction"
   ]
  },
  {
   "cell_type": "code",
   "execution_count": 480,
   "metadata": {},
   "outputs": [
    {
     "name": "stdout",
     "output_type": "stream",
     "text": [
      "Load data\n"
     ]
    }
   ],
   "source": [
    "import soundfile as sf\n",
    "from data.load_cooll_data import get_cool_data\n",
    "wanted_appl = [\"Drill\", \"Fan\", \"Grinder\", \"Hair\", \"Hedge\", \"Lamp\", \"Sander\", \"Saw\", \"Vacuum\"]\n",
    "print(\"Load data\")\n",
    "Ts = int(100e3/50)\n",
    "Nc = 10\n",
    "cycles = Ts*Nc\n",
    "path_dir = \"../../data/COOLL/\"\n",
    "Meta, labels = get_cool_data(path_dir)\n",
    "id = 1\n",
    "start=Meta[id][4]\n",
    "index_on  = Meta[id][0]*int(1e2)+Meta[id][3]\n",
    "index_of = start*int(1e2)+Meta[id][7]+Meta[id][8]*int(1e2)\n",
    "i, fs = sf.read(path_dir+\"current/scenarioC1_{}.flac\".format(id))\n",
    "v, fs = sf.read(path_dir+\"voltage/scenarioV1_{}.flac\".format(id))\n",
    "\n",
    "c_on,v_on = i[index_on-cycles:index_on+cycles], v[index_on-cycles:index_on+cycles]\n",
    "c_of,v_of = i[index_of-Ts*5:index_of+Ts*5], v[index_of-Ts*5:index_of+Ts*5]"
   ]
  },
  {
   "cell_type": "code",
   "execution_count": 481,
   "metadata": {},
   "outputs": [
    {
     "name": "stdout",
     "output_type": "stream",
     "text": [
      "[  389  1389  2387  3388  4388  5389  6389  7389  8389  9389 10390 11390\n",
      " 12390 13390 14390 15390 16390 17390]\n"
     ]
    }
   ],
   "source": [
    "current, voltage = np.copy(c_on), np.copy(v_on)\n",
    "c_a, v_a, zc_a=get_activations(c_on[Ts*Nc:], v_on[Ts*Nc:], Ts)\n",
    "#c_b, v_b, zc_b=get_activations(c_on[:Ts*Nc], v_on[:Ts*Nc], Ts)"
   ]
  },
  {
   "cell_type": "code",
   "execution_count": 482,
   "metadata": {},
   "outputs": [],
   "source": [
    "def plot_events_sample(signal, zc_a, zc_b, label=\"voltage\"):\n",
    "    x = np.arange(len(signal))\n",
    "    plt.plot(x, signal)\n",
    "    plt.ylabel(label, fontsize=16)\n",
    "    plt.xlabel(\"Sample $T_s\\cdot N_s$\", fontsize=16)\n",
    "    plt.axvline(Ts*Nc,color=colors[3])\n",
    "    ax = plt.gca()\n",
    "    x_a_0=zc_a[0]+Ts*Nc//2\n",
    "    x_a_1=zc_a[1]+Ts*Nc//2\n",
    "    x_b_0=zc_b[0]\n",
    "    x_b_1=zc_b[1]\n",
    "    ax.plot(x[x_a_0:x_a_1], signal[x_a_0:x_a_1], color=\"r\", alpha=0.9)\n",
    "    ax.plot(x[x_b_0:x_b_1], signal[x_b_0:x_b_1], \"g\", alpha=0.9)\n",
    "    ax.autoscale(tight=True)"
   ]
  },
  {
   "cell_type": "code",
   "execution_count": 484,
   "metadata": {},
   "outputs": [],
   "source": [
    "fig = figure(fig_width=3)\n",
    "plt.plot(c_a)\n",
    "plt.ylabel(\"Current $A$\", fontsize=16)\n",
    "plt.xlabel(\"Sample $T_s$\", fontsize=16)\n",
    "ax = plt.gca()\n",
    "ax.autoscale(tight=True)\n",
    "savefig(fig_path+\"current_after\",format=\".pdf\")"
   ]
  },
  {
   "cell_type": "code",
   "execution_count": 485,
   "metadata": {},
   "outputs": [],
   "source": [
    "fig = figure(fig_width=3)\n",
    "plt.plot(v_a)\n",
    "plt.ylabel(\"Voltage $V$\", fontsize=16)\n",
    "plt.xlabel(\"Sample $T_s$\", fontsize=16)\n",
    "ax = plt.gca()\n",
    "ax.autoscale(tight=True)\n",
    "savefig(fig_path+\"voltage_after\",format=\".pdf\")"
   ]
  },
  {
   "cell_type": "code",
   "execution_count": 486,
   "metadata": {},
   "outputs": [],
   "source": [
    "fig = figure(fig_width=3)\n",
    "plt.plot(v_b)\n",
    "plt.ylabel(\"Voltage $V$\", fontsize=16)\n",
    "plt.xlabel(\"Sample $T_s$\", fontsize=16)\n",
    "ax = plt.gca()\n",
    "ax.autoscale(tight=True)\n",
    "savefig(fig_path+\"voltage_before\",format=\".pdf\")"
   ]
  },
  {
   "cell_type": "code",
   "execution_count": 487,
   "metadata": {},
   "outputs": [],
   "source": [
    "fig = figure(fig_width=3)\n",
    "plt.plot(c_b)\n",
    "plt.ylim(-0.3, 0.3)\n",
    "plt.ylabel(\"Current $A$\", fontsize=16)\n",
    "plt.xlabel(\"Sample $T_s$\", fontsize=16)\n",
    "plt.tight_layout()\n",
    "savefig(fig_path+\"current_before\",format=\".pdf\")"
   ]
  },
  {
   "cell_type": "code",
   "execution_count": 488,
   "metadata": {},
   "outputs": [],
   "source": [
    "fig = figure(fig_width=3)\n",
    "plot_events_sample(current, zc_a, zc_b, label=\"current $A$\")\n",
    "savefig(fig_path+\"Current_events\",format=\".pdf\")"
   ]
  },
  {
   "cell_type": "code",
   "execution_count": 489,
   "metadata": {},
   "outputs": [],
   "source": [
    "fig = figure(fig_width=3)\n",
    "plot_events_sample(voltage, zc_a, zc_b, label=\"voltage $V$\")\n",
    "savefig(fig_path+\"Volatge_events\",format=\".pdf\")"
   ]
  },
  {
   "cell_type": "markdown",
   "metadata": {},
   "source": [
    "### AWR"
   ]
  },
  {
   "cell_type": "code",
   "execution_count": 345,
   "metadata": {},
   "outputs": [],
   "source": [
    "x_aa=paa(c_a, 500)\n",
    "D=get_distance_measure(torch.tensor(x_aa[:,None]), p=2)\n",
    "WRG=get_weighted_reccurrence_graph(D, 1e3, 50)"
   ]
  },
  {
   "cell_type": "code",
   "execution_count": 346,
   "metadata": {},
   "outputs": [
    {
     "data": {
      "text/plain": [
       "[<matplotlib.lines.Line2D at 0x1576c2390>]"
      ]
     },
     "execution_count": 346,
     "metadata": {},
     "output_type": "execute_result"
    },
    {
     "data": {
      "image/png": "[encoded data removed]",
      "text/plain": [
       "<Figure size 144x88.9969 with 1 Axes>"
      ]
     },
     "metadata": {
      "needs_background": "light"
     },
     "output_type": "display_data"
    }
   ],
   "source": [
    "fig = figure(fig_width=2)\n",
    "plt.plot(x_aa)"
   ]
  },
  {
   "cell_type": "code",
   "execution_count": 347,
   "metadata": {},
   "outputs": [
    {
     "data": {
      "text/plain": [
       "<matplotlib.image.AxesImage at 0x15800df10>"
      ]
     },
     "execution_count": 347,
     "metadata": {},
     "output_type": "execute_result"
    },
    {
     "data": {
      "image/png": "[encoded data removed]",
      "text/plain": [
       "<Figure size 144x88.9969 with 1 Axes>"
      ]
     },
     "metadata": {
      "needs_background": "light"
     },
     "output_type": "display_data"
    }
   ],
   "source": [
    "fig = figure(fig_width=2)\n",
    "plt.imshow(WRG, cmap=\"gray\")"
   ]
  },
  {
   "cell_type": "markdown",
   "metadata": {},
   "source": [
    "### COOLL Data"
   ]
  },
  {
   "cell_type": "code",
   "execution_count": 445,
   "metadata": {},
   "outputs": [
    {
     "name": "stdout",
     "output_type": "stream",
     "text": [
      "Number of appliances:11 \n",
      "Number of households:55             \n",
      "Number of total measurements:1074\n",
      "108/1074 (10%) have been read...\t time consumed: 58s\n",
      "216/1074 (20%) have been read...\t time consumed: 117s\n",
      "324/1074 (30%) have been read...\t time consumed: 171s\n",
      "432/1074 (40%) have been read...\t time consumed: 228s\n",
      "540/1074 (50%) have been read...\t time consumed: 287s\n",
      "648/1074 (60%) have been read...\t time consumed: 350s\n",
      "756/1074 (70%) have been read...\t time consumed: 407s\n",
      "864/1074 (80%) have been read...\t time consumed: 475s\n",
      "972/1074 (91%) have been read...\t time consumed: 561s\n",
      "1074/1074 (100%) have been read(Done!) \t time consumed: 615s\n",
      "number of different appliances: 11\n",
      "number of different households: 55\n"
     ]
    }
   ],
   "source": [
    "from data.load_plaid_data import get_plaid_data\n",
    "from data.load_cooll_data import get_cool_feature\n",
    "from data.load_whited_data import get_whited_feature\n",
    "datasets = {\"plaid\":\"../../data/PLAID/\",\n",
    "               \"whited\":\"../../data/WHITED/\",\n",
    "               \"cooll\":\"../../data/COOLL/\"}\n",
    "\n",
    "data = \"plaid\"\n",
    "current, voltage, label, _ = get_plaid_data(datasets[data])"
   ]
  },
  {
   "cell_type": "code",
   "execution_count": 457,
   "metadata": {},
   "outputs": [],
   "source": [
    "plaid_names = ['AC', 'CFL', 'Fan', 'Fridge', 'Hairdryer', 'Heater', 'Bulb', 'Laptop', 'Microwave', 'Vacuum', 'Washer']"
   ]
  },
  {
   "cell_type": "code",
   "execution_count": 464,
   "metadata": {},
   "outputs": [],
   "source": [
    "plaid_label =[]\n",
    "for l in label:\n",
    "    plaid_label.append(plaid_names[l])"
   ]
  },
  {
   "cell_type": "code",
   "execution_count": 477,
   "metadata": {},
   "outputs": [],
   "source": [
    "label, counts=np.unique(plaid_label, return_counts=True)\n",
    "volgorde = np.argsort(counts)[::-1][:len(counts)]\n",
    "fig = figure(fig_width=6)\n",
    "plt.bar(label[volgorde], counts[volgorde], color=colors[0])\n",
    "plt.xticks(rotation=90, fontsize=16)\n",
    "ax = plt.gca()  \n",
    "ax.set_ylabel(f'Number of activations', fontsize=16)\n",
    "ax.set_xlabel(\"\", fontsize=16)\n",
    "ax.tick_params(axis='both', which='major')  \n",
    "ax.autoscale(tight=True)\n",
    "ax = plt.gca()\n",
    "ax.tick_params(axis=\"both\", which=\"minor\", bottom=False, \n",
    "               top=False, labelbottom=True, left=False, right=False, labelleft=True)\n",
    "format_axes(ax)\n",
    "savefig(fig_path+\"label_distribution_plaid\",format=\".pdf\")"
   ]
  },
  {
   "cell_type": "code",
   "execution_count": 465,
   "metadata": {},
   "outputs": [
    {
     "data": {
      "image/png": "[encoded data removed]",
      "text/plain": [
       "<Figure size 648x360 with 12 Axes>"
      ]
     },
     "metadata": {
      "needs_background": "light"
     },
     "output_type": "display_data"
    }
   ],
   "source": [
    "fig, axs = plt.subplots(3,4, figsize=set_figure_size(fig_width=9, fig_height=5))\n",
    "#fig.subplots_adjust(hspace = 0.1)\n",
    "axs = axs.ravel()\n",
    "for idap, app in enumerate(np.unique(plaid_label)):\n",
    "    idx = np.random.choice(np.where(np.array(plaid_label)==app)[0])\n",
    "    axs[idap].plot(current[idx]) \n",
    "    axs[idap].set_title(app, fontsize=16)\n",
    "    #axs[idap].set_xlabel(\"$(V)$\", fontsize=12) \n",
    "    #axs[idap].set_ylabel(\"$(A)$\", fontsize=12) \n",
    "    #axs[idap].set_xlim(0, 501) \n",
    "    #format_axes(axs[idap])\n",
    "    #axs[idap].autoscale(tight=True)\n",
    "    handles, labels = axs[idap].get_legend_handles_labels()\n",
    "fig.legend(handles, labels, loc='upper center',  ncol=3, fontsize=14)\n",
    "fig.tight_layout()"
   ]
  },
  {
   "cell_type": "code",
   "execution_count": 263,
   "metadata": {},
   "outputs": [],
   "source": [
    "hair = np.where(label==\"Hair\")[0][0]"
   ]
  },
  {
   "cell_type": "code",
   "execution_count": 365,
   "metadata": {},
   "outputs": [],
   "source": [
    "fig = figure(fig_width=3)\n",
    "vc= np.random.choice(np.where(np.unique(label)==9)[0])\n",
    "plt.plot(current[vc])\n",
    "plt.ylabel(\"Current $A$\")\n",
    "plt.xlabel(\"Sample $T_s$\")\n",
    "savefig(fig_path+\"CFL_before_paa\",format=\".pdf\")\n",
    "\n",
    "\n",
    "fig = figure(fig_width=3)\n",
    "vc= np.random.choice(np.where(np.unique(label)==9)[0])\n",
    "plt.plot(paa(current[vc], 50))\n",
    "plt.ylabel(\"Current $A$\")\n",
    "plt.xlabel(\"Sample $T_s$\")\n",
    "savefig(fig_path+\"CFL_before_paa_50\",format=\".pdf\")\n",
    "\n",
    "fig = figure(fig_width=3)\n",
    "vc= np.random.choice(np.where(np.unique(label)==9)[0])\n",
    "plt.plot(paa(current[vc], 30))\n",
    "plt.ylabel(\"Current $A$\")\n",
    "plt.xlabel(\"Sample $T_s$\")\n",
    "savefig(fig_path+\"CFL_before_paa_30\",format=\".pdf\")\n",
    "\n",
    "fig = figure(fig_width=3)\n",
    "vc= np.random.choice(np.where(np.unique(label)==9)[0])\n",
    "plt.plot(paa(current[vc], 20))\n",
    "plt.ylabel(\"Current $A$\")\n",
    "plt.xlabel(\"Sample $T_s$\")\n",
    "savefig(fig_path+\"CFL_before_paa_20\",format=\".pdf\")\n",
    "\n",
    "fig = figure(fig_width=3)\n",
    "vc= np.random.choice(np.where(np.unique(label)==9)[0])\n",
    "plt.plot(paa(current[vc], 10))\n",
    "plt.ylabel(\"Current $A$\")\n",
    "plt.xlabel(\"Sample $T_s$\")\n",
    "savefig(fig_path+\"CFL_before_paa_10\",format=\".pdf\")"
   ]
  },
  {
   "cell_type": "code",
   "execution_count": 416,
   "metadata": {},
   "outputs": [],
   "source": [
    "fig = figure(fig_width=3, fig_height=2.5)\n",
    "plt.plot(voltage[vc], current[vc])\n",
    "#plt.plot( voltage[dr], current[dr])\n",
    "plt.ylabel(\"Current $A$\")\n",
    "plt.xlabel(\"Voltage $V$\")\n",
    "savefig(fig_path+\"VC_VI\",format=\".pdf\")\n",
    "\n",
    "fig = figure(fig_width=3, fig_height=2.5)\n",
    "plt.plot(voltage[vc])\n",
    "#plt.ylabel(\"Current $A$\")\n",
    "#plt.xlabel(\"Voltage $V$\")\n",
    "savefig(fig_path+\"V\",format=\".pdf\")\n",
    "fig = figure(fig_width=3, fig_height=2.5)\n",
    "plt.plot(current[vc])\n",
    "plt.ylabel(\"Current $A$\")\n",
    "#plt.xlabel(\"Voltage $V$\")\n",
    "savefig(fig_path+\"I\",format=\".pdf\")"
   ]
  },
  {
   "cell_type": "code",
   "execution_count": 369,
   "metadata": {},
   "outputs": [],
   "source": [
    "D=get_distance_measure(torch.tensor(paa(current[vc], 50)[:,None]), p=2)\n",
    "WRG=get_weighted_reccurrence_graph(D, 1e1, 20)\n",
    "RG=get_weighted_reccurrence_graph(D, 1e1, 1)"
   ]
  },
  {
   "cell_type": "code",
   "execution_count": 405,
   "metadata": {},
   "outputs": [],
   "source": [
    "fig = figure(fig_width=2.5, fig_height=2.5)\n",
    "plt.imshow(D, cmap=\"Spectral\");\n",
    "savefig(fig_path+\"distance\",format=\".pdf\")"
   ]
  },
  {
   "cell_type": "code",
   "execution_count": 406,
   "metadata": {},
   "outputs": [],
   "source": [
    "fig = figure(fig_width=2.5, fig_height=2.5)\n",
    "plt.imshow(WRG, cmap=\"Spectral\");\n",
    "savefig(fig_path+\"wrg\",format=\".pdf\")"
   ]
  },
  {
   "cell_type": "code",
   "execution_count": 407,
   "metadata": {},
   "outputs": [],
   "source": [
    "fig = figure(fig_width=2.5, fig_height=2.5)\n",
    "plt.imshow(RG, cmap=\"gray\");\n",
    "savefig(fig_path+\"binaryrg\",format=\".pdf\")"
   ]
  },
  {
   "cell_type": "code",
   "execution_count": 420,
   "metadata": {},
   "outputs": [],
   "source": [
    "VIv = get_img_from_VI(current[vc], voltage[vc], 50)\n",
    "fig = figure(fig_width=2, fig_height=1.5)\n",
    "plt.imshow(VIv, cmap=\"binary\");\n",
    "savefig(fig_path+\"VI-image\",format=\".pdf\")"
   ]
  },
  {
   "cell_type": "markdown",
   "metadata": {},
   "source": [
    "### LABEL DISTRIBUTION"
   ]
  },
  {
   "cell_type": "code",
   "execution_count": 428,
   "metadata": {},
   "outputs": [
    {
     "name": "stdout",
     "output_type": "stream",
     "text": [
      "Load data\n"
     ]
    },
    {
     "name": "stderr",
     "output_type": "stream",
     "text": [
      "processed: 839: 100%|█████████▉| 839/841 [00:25<00:00, 32.38it/s]\n"
     ]
    },
    {
     "name": "stdout",
     "output_type": "stream",
     "text": [
      "labels:839\n",
      "current:839\n",
      "voltage:839\n"
     ]
    }
   ],
   "source": [
    "data = \"cooll\"\n",
    "current, voltage, label, = get_cool_feature(datasets[data])"
   ]
  },
  {
   "cell_type": "code",
   "execution_count": 429,
   "metadata": {},
   "outputs": [],
   "source": [
    "cool_label = label"
   ]
  },
  {
   "cell_type": "code",
   "execution_count": 476,
   "metadata": {},
   "outputs": [],
   "source": [
    "label, counts=np.unique(cool_label, return_counts=True)\n",
    "volgorde = np.argsort(counts)[::-1][:len(counts)]\n",
    "fig = figure(fig_width=6)\n",
    "plt.bar(label[volgorde], counts[volgorde], color=colors[0])\n",
    "plt.xticks(rotation=90, fontsize=16)\n",
    "ax = plt.gca()  \n",
    "ax.set_ylabel(f'Number of activations', fontsize=16)\n",
    "ax.set_xlabel(\"\", fontsize=16)\n",
    "ax.tick_params(axis='both', which='major')  \n",
    "ax.autoscale(tight=True)\n",
    "ax = plt.gca()\n",
    "ax.tick_params(axis=\"both\", which=\"minor\", bottom=False, \n",
    "               top=False, labelbottom=True, left=False, right=False, labelleft=True)\n",
    "format_axes(ax)\n",
    "savefig(fig_path+\"label_distribution_cooll\",format=\".pdf\")"
   ]
  },
  {
   "cell_type": "code",
   "execution_count": 435,
   "metadata": {},
   "outputs": [
    {
     "name": "stderr",
     "output_type": "stream",
     "text": [
      "processed: 1259: 100%|██████████| 1259/1259 [00:07<00:00, 160.96it/s]\n"
     ]
    }
   ],
   "source": [
    "from data.load_whited_data import get_whited_feature, get_train_test_leave_out_whited \n",
    "datasets = {\"plaid\":\"../../data/PLAID/\",\n",
    "               \"whited\":\"../../data/WHITED/\",\n",
    "               \"cooll\":\"../../data/COOLL/\"}\n",
    "data = \"whited\"\n",
    "current, voltage, label = get_whited_feature(datasets[data])\n",
    "whited_label = label"
   ]
  },
  {
   "cell_type": "code",
   "execution_count": 475,
   "metadata": {},
   "outputs": [],
   "source": [
    "\n",
    "label, counts=np.unique(whited_label, return_counts=True)\n",
    "volgorde = np.argsort(counts)[::-1][:len(counts)]\n",
    "fig = figure(fig_width=12, fig_height=5)\n",
    "plt.bar(label[volgorde], counts[volgorde], color=colors[0])\n",
    "plt.xticks(rotation=90, fontsize=16)\n",
    "ax = plt.gca()  \n",
    "ax.set_ylabel(f'Number of activations', fontsize=16)\n",
    "ax.set_xlabel(\"\", fontsize=16)\n",
    "ax.tick_params(axis='both', which='major')  \n",
    "ax.autoscale(tight=True)\n",
    "ax = plt.gca()\n",
    "ax.tick_params(axis=\"both\", which=\"minor\", bottom=False, \n",
    "               top=False, labelbottom=True, left=False, right=False, labelleft=True)\n",
    "format_axes(ax)\n",
    "savefig(fig_path+\"label_distribution_whited\",format=\".pdf\")"
   ]
  },
  {
   "cell_type": "code",
   "execution_count": null,
   "metadata": {},
   "outputs": [],
   "source": []
  }
 ],
 "metadata": {
  "kernelspec": {
   "display_name": "Python 3",
   "language": "python",
   "name": "python3"
  },
  "language_info": {
   "codemirror_mode": {
    "name": "ipython",
    "version": 3
   },
   "file_extension": ".py",
   "mimetype": "text/x-python",
   "name": "python",
   "nbconvert_exporter": "python",
   "pygments_lexer": "ipython3",
   "version": "3.7.7"
  },
  "latex_envs": {
   "LaTeX_envs_menu_present": true,
   "autoclose": false,
   "autocomplete": true,
   "bibliofile": "biblio.bib",
   "cite_by": "apalike",
   "current_citInitial": 1,
   "eqLabelWithNumbers": true,
   "eqNumInitial": 1,
   "hotkeys": {
    "equation": "Ctrl-E",
    "itemize": "Ctrl-I"
   },
   "labels_anchors": false,
   "latex_user_defs": false,
   "report_style_numbering": false,
   "user_envs_cfg": false
  }
 },
 "nbformat": 4,
 "nbformat_minor": 2
}
